{
 "cells": [
  {
   "cell_type": "code",
   "id": "initial_id",
   "metadata": {
    "collapsed": true,
    "ExecuteTime": {
     "end_time": "2024-05-17T13:38:18.488622Z",
     "start_time": "2024-05-17T13:38:08.340627Z"
    }
   },
   "source": [
    "import os\n",
    "\n",
    "import netCDF4\n",
    "from haversine import haversine\n",
    "\n",
    "import src.inner.tide_gauge_station\n",
    "\n",
    "\n",
    "def find_closest_grid_point(all_latitudes, all_longitudes, current_station):\n",
    "    \"\"\"\n",
    "    For a given station, find the closest grid point in the oras5 dataset using the haversine formula\n",
    "    :param all_longitudes: \n",
    "    :param all_latitudes: \n",
    "    :param current_station: \n",
    "    :return: \n",
    "    \"\"\"\n",
    "    slice_lat = all_latitudes[current_station.latitude + 10: current_station.latitude - 20]\n",
    "    slice_lon = all_longitudes[current_station.longitude + 10: current_station.longitude - 20]\n",
    "    for lat in slice_lat:\n",
    "        for lon in slice_lon:\n",
    "            haversine(current_station.latitude, current_station.longitude, lat, lon)\n",
    "    pass\n",
    "\n",
    "\n",
    "# find closes grid point for each station\n",
    "output_path = \"../output/create_simulated_dataset/\"\n",
    "stations = src.tide_gauge_station.read_and_create_stations(\"../data/rlr_monthly/filelist.txt\",\n",
    "                                                           os.path.join(output_path, \"metadata.txt\"))\n",
    "# read one oras5 file to get the grid points\n",
    "oras5 = netCDF4.Dataset(\"../data/Oras5/1958-1979/sossheig_control_monthly_highres_2D_195801_CONS_v0.1.nc\")\n",
    "print(oras5)\n",
    "# print(oras5.variables)\n",
    "# print(oras5.variables.keys())\n",
    "lats = oras5.variables[\"nav_lat\"][:]\n",
    "lons = oras5.variables[\"nav_lon\"][:]\n",
    "print(f\"min lat: {lats.min()}, max lat: {lats.max()}\")\n",
    "print(f\"min lon: {lons.min()}, max lon: {lons.max()}\")\n",
    "for station in stations:\n",
    "    find_closest_grid_point(lats, lons, station)\n",
    "    print(station)\n",
    "\n",
    "\n",
    "\n",
    "\n",
    "\n",
    "\n",
    "\n"
   ],
   "execution_count": 16,
   "outputs": []
  },
  {
   "metadata": {
    "ExecuteTime": {
     "end_time": "2024-08-20T07:43:27.496035Z",
     "start_time": "2024-08-20T07:43:27.012577Z"
    }
   },
   "cell_type": "code",
   "source": [
    "from matplotlib import pyplot as plt\n",
    "\n",
    "rms_30_eofs = {100: 0.1598, 150: 0.1585, 200: 0.2028, 250: 0.1187, 300: 0.1075, 350: 0.1105, 400: 0.1281,\n",
    "               450: 0.1316, 500: 0.1636, 550: 0.1243, 600: 0.1357, 650: 0.1466, 700: 0.1501}\n",
    "# plot \n",
    "fig, ax = plt.subplots(figsize=(10, 5))\n",
    "ax.plot(rms_30_eofs.keys(), rms_30_eofs.values())\n",
    "ax.set_xlabel(\"No of stations\")\n",
    "ax.set_ylabel(\"RMS (in meters)\")\n",
    "plt.savefig(\"../../output/PCA/voronoi/rms_30eofs.png\", dpi=400)\n",
    "plt.close()\n"
   ],
   "id": "7d95f4e13849b0a9",
   "outputs": [],
   "execution_count": 2
  },
  {
   "metadata": {
    "ExecuteTime": {
     "end_time": "2024-09-03T07:56:41.614433Z",
     "start_time": "2024-09-03T07:56:41.168788Z"
    }
   },
   "cell_type": "code",
   "source": [
    "import os\n",
    "import matplotlib\n",
    "import matplotlib.pyplot as plt\n",
    "import src.inner.tide_gauge_station\n",
    "\n",
    "matplotlib.use('Cairo')\n",
    "if not os.path.exists(\"../../output/plot_timeseries\"):\n",
    "    os.makedirs(\"../../output/plot_timeseries\")\n",
    "metadatapath = \"../../output/plot_timeseries/metadata.txt\"\n",
    "stations = src.inner.tide_gauge_station.read_and_create_stations(\"../../data/rlr_monthly/filelist.txt\",\n",
    "                                                                 metadatapath)  # read stations\n",
    "\n",
    "# plot timeseries of tide gauge station 1 \n",
    "station_1 = stations[1]\n",
    "timeseries = station_1.timeseries\n",
    "timeseries_cleaned = {}\n",
    "for date in timeseries.keys():\n",
    "    if timeseries[date] != -99999:\n",
    "        timeseries_cleaned[date] = timeseries[date]\n",
    "\n",
    "fig, ax = plt.subplots(figsize=(10, 5))\n",
    "ax.plot(list(timeseries_cleaned.keys()), list(timeseries_cleaned.values()), color=\"teal\")\n",
    "ax.set_xlabel(\"Year\")\n",
    "ax.set_ylabel(\"Sea level (in mm)\")\n",
    "plt.savefig(\"../../output/plot_timeseries/station_1.svg\", dpi=400)\n",
    "plt.close()\n",
    "\n"
   ],
   "id": "6eb131fb9576d959",
   "outputs": [],
   "execution_count": 5
  },
  {
   "metadata": {
    "ExecuteTime": {
     "end_time": "2024-09-03T18:00:51.614253Z",
     "start_time": "2024-09-03T18:00:51.120781Z"
    }
   },
   "cell_type": "code",
   "source": [
    "\n",
    "import os\n",
    "import src.inner.tide_gauge_station\n",
    "\n",
    "# calculate number of valid data points across all stations timeseries\n",
    "valid_data_points = 0\n",
    "if not os.path.exists(\"../../output/plot_timeseries\"):\n",
    "    os.makedirs(\"../../output/plot_timeseries\")\n",
    "metadatapath = \"../../output/plot_timeseries/metadata.txt\"\n",
    "stations = src.inner.tide_gauge_station.read_and_create_stations(\"../../data/rlr_monthly/filelist.txt\",\n",
    "                                                                 metadatapath)  # read stations\n",
    "earliest_date = 1807.0417\n",
    "latest_date = 2023.9583\n",
    "# calculate number of missing values if all timeseries where to start at the earliest date and end at the latest date\n",
    "no_missing_values = 0\n",
    "for station in stations.values():\n",
    "    timeseries = station.timeseries\n",
    "    if len(timeseries) == 0:\n",
    "        continue\n",
    "    current_earliest_date = min(timeseries.keys())\n",
    "    current_latest_date = max(timeseries.keys())\n",
    "    for date in timeseries.keys():\n",
    "        if timeseries[date] != -99999:\n",
    "            valid_data_points += 1\n",
    "        else:\n",
    "            no_missing_values += 1\n",
    "            if date < earliest_date:\n",
    "                earliest_date = date\n",
    "            if date > latest_date:\n",
    "                latest_date = date\n",
    "    no_missing_values += int((latest_date - current_latest_date) * 12) + int(\n",
    "        (current_earliest_date - earliest_date) * 12)\n",
    "print(f\"Total valid data points: {valid_data_points}\")\n",
    "print(f\"Average of valid data points per station: {valid_data_points / len(stations)}\")\n",
    "print(f\"Earliest date: {earliest_date}\")\n",
    "print(f\"Latest date: {latest_date}\")\n",
    "print(f\"Number of missing values: {no_missing_values}\")\n"
   ],
   "id": "f24d5f6bff0c9e34",
   "outputs": [
    {
     "name": "stdout",
     "output_type": "stream",
     "text": [
      "Total valid data points: 706000\n",
      "Average of valid data points per station: 445.42586750788644\n",
      "Earliest date: 1807.0417\n",
      "Latest date: 2023.9583\n",
      "Number of missing values: 3391781\n"
     ]
    }
   ],
   "execution_count": 8
  },
  {
   "metadata": {
    "ExecuteTime": {
     "end_time": "2024-09-06T07:43:50.940365Z",
     "start_time": "2024-09-06T07:43:50.889207Z"
    }
   },
   "cell_type": "code",
   "source": [
    "# plot rms values for reconstruction \n",
    "import matplotlib.pyplot as plt\n",
    "import matplotlib\n",
    "\n",
    "matplotlib.use('Cairo')\n",
    "# set font size to 20\n",
    "plt.rcParams.update({'font.size': 20})\n",
    "\n",
    "# voronoi rms values\n",
    "# rms_values = {100: 0.010123966802054275, 150: 0.009807647155841584, 200: 0.009155430208419977,\n",
    "#               250: 0.008772708054281734, 300: 0.008773301823678473, 350: 0.008662121568280626,\n",
    "#               400: 0.008990400503010964, 450: 0.009647321464568778, 500: 0.009558559797518962,\n",
    "#               550: 0.009934817503266934, 600: 0.00998536744485348, 650: 0.010239007752516264,\n",
    "#               700: 0.010477984463352425}\n",
    "# \n",
    "# # section clustering \n",
    "# rms_values = {\"100\": 0.007736578500638809, \"150\": 0.008449788967305432, \"200\": 0.010995570288404487,\n",
    "#               \"250\": 0.010100540919944138, \"300\": 0.009591489235576869, \"350\": 0.009774225561659824,\n",
    "#               \"400\": 0.009798436236852436, \"450\": 0.009405158181798273, \"500\": 0.009165021788743557,\n",
    "#               \"550\": 0.008808101275692802, \"600\": 0.009408070070172766, \"650\": 0.009416871818956039,\n",
    "#               \"700\": 0.009844928828835775}\n",
    "\n",
    "# normal clustering\n",
    "rms_values = {\"5\": 0.01185586943356649, \"10\": 0.011460480587120958, \"15\": 0.010608438538163735,\n",
    "              \"20\": 0.010580701672853823, \"25\": 0.010459958721936625, \"30\": 0.00958083810908065,\n",
    "              \"35\": 0.00994762662884828, \"40\": 0.009424243271147041, \"45\": 0.010131756184639617,\n",
    "              \"50\": 0.009739135848099602, \"55\": 0.009853429674342325, \"60\": 0.009400187264772576,\n",
    "              \"65\": 0.00998535465856468, \"70\": 0.010127576982962745, \"75\": 0.009632241834844358,\n",
    "              \"80\": 0.00980483357883341, \"85\": 0.010163861975817935, \"90\": 0.011571113213915027,\n",
    "              \"95\": 0.010816039385113082, \"100\": 0.0108011764585149}\n",
    "\n",
    "fig, ax = plt.subplots(figsize=(20, 12))\n",
    "ax.plot(rms_values.keys(), rms_values.values(), color=\"teal\", linewidth=4)\n",
    "# inverse x axis for radius (to be comparable with the other plots, bc higher radius = fewer stations)\n",
    "ax.invert_xaxis()\n",
    "ax.set_xlabel(\"Radius\")\n",
    "ax.set_ylabel(\"RMSE [m]\")\n",
    "plt.savefig(f\"../../output/PCA/normal_clustering_rms.svg\")\n",
    "plt.close()"
   ],
   "id": "1749c198c7e253cf",
   "outputs": [],
   "execution_count": 6
  },
  {
   "metadata": {
    "ExecuteTime": {
     "end_time": "2024-09-06T09:39:32.784392Z",
     "start_time": "2024-09-06T09:39:31.033824Z"
    }
   },
   "cell_type": "code",
   "source": [
    "# number of flagged values \n",
    "import src.inner.tide_gauge_station\n",
    "\n",
    "path = \"../../data/rlr_monthly/filelist.txt\"\n",
    "metadatapath = \"../../output/metadata.txt\"\n",
    "stations = src.inner.tide_gauge_station.read_and_create_stations(path, metadatapath)"
   ],
   "id": "1cd3a7c16087227",
   "outputs": [],
   "execution_count": 1
  },
  {
   "metadata": {
    "ExecuteTime": {
     "end_time": "2024-09-06T14:55:34.780785Z",
     "start_time": "2024-09-06T14:55:34.698749Z"
    }
   },
   "cell_type": "code",
   "source": [
    "# read all rms_stations.txt files across the clustering sizes and take the mean, max and min and plot them \n",
    "import matplotlib.pyplot as plt\n",
    "import matplotlib\n",
    "import os\n",
    "\n",
    "matplotlib.use('Cairo')\n",
    "# set font size to 20\n",
    "plt.rcParams.update({'font.size': 20})\n",
    "path = (\"../../output/PCA/voronoi/10_eofs/\")\n",
    "cluster_sizes = [150, 200, 250, 300, 350, 400, 450, 500, 550, 600, 650, 700]\n",
    "min_rms = []\n",
    "overall_min_rms = 1\n",
    "overall_min_station = 0\n",
    "overall_min_cluster_size = 0\n",
    "overall_max_rms = 0\n",
    "overall_max_station = 0\n",
    "overall_max_cluster_size = 0\n",
    "max_rms = []\n",
    "mean_rms = []\n",
    "for size in cluster_sizes:\n",
    "    current_path = os.path.join(path, f\"1992_2023/{size}/\", \"rms_stations.txt\")\n",
    "    with open(current_path, \"r\") as file:\n",
    "        # the rms value is the second value in each file\n",
    "        rms_values = []\n",
    "        for line in file:\n",
    "            current_values = line.split()\n",
    "            current_rms = float(current_values[1])\n",
    "            rms_values.append(current_rms)\n",
    "            if current_rms < overall_min_rms:\n",
    "                overall_min_rms = current_rms\n",
    "                overall_min_station = current_values[0]\n",
    "                overall_min_cluster_size = size\n",
    "            if current_rms > overall_max_rms:\n",
    "                overall_max_rms = current_rms\n",
    "                overall_max_station = current_values[0]\n",
    "                overall_max_cluster_size = size\n",
    "        min_rms.append(min(rms_values))\n",
    "        max_rms.append(max(rms_values))\n",
    "        mean_rms.append(sum(rms_values) / len(rms_values))\n",
    "\n",
    "print(f\"Overall min rms: {overall_min_rms}, station: {overall_min_station}, cluster size: {overall_min_cluster_size}\")\n",
    "print(f\"Overall max rms: {overall_max_rms}, station: {overall_max_station}, cluster size: {overall_max_cluster_size}\")\n",
    "# save min, max and mean rms values\n",
    "with open(os.path.join(path, \"min_max_avg_rms.txt\"), \"w\") as file:\n",
    "    file.write(\"Min RMSE \\n\")\n",
    "    for rms in min_rms:\n",
    "        file.write(f\"{rms}, \")\n",
    "    file.write(\"\\n\")\n",
    "    file.write(\"Max RMSE \\n\")\n",
    "    for rms in max_rms:\n",
    "        file.write(f\"{rms}, \")\n",
    "    file.write(\"\\n\")\n",
    "    file.write(\"Avg RMSE \\n\")\n",
    "    for rms in mean_rms:\n",
    "        file.write(f\"{rms}, \")\n",
    "\n",
    "# plot \n",
    "fig, ax = plt.subplots(figsize=(20, 12))\n",
    "ax.plot(cluster_sizes, min_rms, label=\"Min RMSE\", color=\"teal\", linewidth=4)\n",
    "ax.plot(cluster_sizes, max_rms, label=\"Max RMSE\", color=\"goldenrod\", linewidth=4)\n",
    "ax.plot(cluster_sizes, mean_rms, label=\"Avg RMSE\", color=\"firebrick\", linewidth=4)\n",
    "ax.set_xlabel(\"Number of clusters\")\n",
    "ax.set_ylabel(\"RMSE [m]\")\n",
    "ax.legend()\n",
    "plt.savefig(os.path.join(path, \"min_max_avg_rms.svg\"))\n",
    "plt.close()"
   ],
   "id": "1a3935c200675b1c",
   "outputs": [
    {
     "name": "stdout",
     "output_type": "stream",
     "text": [
      "Overall min rms: 0.049477899589553336, station: 960, cluster size: 700\n",
      "Overall max rms: 0.42973197316401895, station: 57, cluster size: 350\n"
     ]
    }
   ],
   "execution_count": 3
  },
  {
   "metadata": {
    "ExecuteTime": {
     "end_time": "2024-09-07T18:23:21.323710Z",
     "start_time": "2024-09-07T18:23:18.651813Z"
    }
   },
   "cell_type": "code",
   "source": [
    "# read in stations and calculate for every ten year period how many stations have data\n",
    "import src.inner.tide_gauge_station\n",
    "\n",
    "path = \"../../data/rlr_monthly/filelist.txt\"\n",
    "metadatapath = \"../../output/metadata.txt\"\n",
    "stations = src.inner.tide_gauge_station.read_and_create_stations(path, metadatapath)\n",
    "start_year = 1807\n",
    "end_year = 2024\n",
    "step_length = 10\n",
    "time_steps = [(i, i + step_length) for i in range(start_year, end_year, step_length)]\n",
    "no_of_stations_all_intervals = []\n",
    "for time_step in time_steps:\n",
    "    start, end = time_step\n",
    "    no_stations = 0\n",
    "    for station in stations.values():\n",
    "        timeseries = station.timeseries\n",
    "        for date in timeseries.keys():\n",
    "            if start <= date <= end:\n",
    "                no_stations += 1\n",
    "                break\n",
    "    no_of_stations_all_intervals.append(no_stations)\n",
    "print(no_of_stations_all_intervals)\n",
    "print(f\"Avg no of stations per interval: {sum(no_of_stations_all_intervals) / len(no_of_stations_all_intervals)}\")\n",
    "\n"
   ],
   "id": "da8546378c4de710",
   "outputs": [
    {
     "name": "stdout",
     "output_type": "stream",
     "text": [
      "[2, 2, 3, 4, 10, 24, 32, 46, 82, 104, 141, 175, 223, 280, 483, 715, 854, 927, 1010, 979, 1030, 917]\n",
      "Avg no of stations per interval: 365.59090909090907\n"
     ]
    }
   ],
   "execution_count": 1
  },
  {
   "metadata": {
    "ExecuteTime": {
     "end_time": "2024-09-08T16:18:29.529489Z",
     "start_time": "2024-09-08T16:18:26.724830Z"
    }
   },
   "cell_type": "code",
   "source": [
    "import json\n",
    "import os\n",
    "import src.inner.tide_gauge_station\n",
    "import matplotlib.pyplot as plt\n",
    "import matplotlib\n",
    "\n",
    "matplotlib.use('Cairo')\n",
    "# set font size to 20\n",
    "plt.rcParams.update({'font.size': 20})\n",
    "\n",
    "# plot 10 year intervals clustering solution + how many stations have data in that interval\n",
    "clustering_path = \"../../output/enforce_overlap/\"\n",
    "station_path = \"../../data/rlr_monthly/filelist.txt\"\n",
    "metadatapath = \"../../output/metadata.txt\"\n",
    "stations = src.inner.tide_gauge_station.read_and_create_stations(station_path, metadatapath)\n",
    "start_year = 1807\n",
    "end_year = 2024\n",
    "step_length = 10\n",
    "time_steps = [(i, i + step_length) for i in range(start_year, end_year, step_length)]\n",
    "radii = [10, 20, 30, 40, 50, 60, 70, 80, 90, 100]\n",
    "no_of_stations_per_time_step = {}\n",
    "no_of_clusters_per_interval_per_radius = {}\n",
    "for radius in radii:\n",
    "    no_of_clusters_per_interval_per_radius[radius] = {}\n",
    "for time_step in time_steps:\n",
    "    start, end = time_step\n",
    "    no_of_stations = 0\n",
    "    for station in stations.values():\n",
    "        timeseries = station.timeseries\n",
    "        for date in timeseries.keys():\n",
    "            if start <= date <= end:\n",
    "                no_of_stations += 1\n",
    "                break\n",
    "    no_of_stations_per_time_step[start] = no_of_stations\n",
    "    no_of_stations_per_time_step[(end - 1)] = no_of_stations\n",
    "    for radius in radii:\n",
    "        no_stations_clustering = 0\n",
    "        path = os.path.join(clustering_path, f\"{start}_{end}/solution_{radius}.json\")\n",
    "        with open(path, \"r\") as file:\n",
    "            current_clustering = json.load(file)\n",
    "            no_stations_clustering = len(current_clustering)\n",
    "        no_of_clusters_per_interval_per_radius[radius][start] = no_stations_clustering\n",
    "        no_of_clusters_per_interval_per_radius[radius][(end - 1)] = no_stations_clustering\n",
    "\n",
    "colors = [\"teal\", \"firebrick\", \"goldenrod\", \"purple\", \"forestgreen\", \"mediumblue\", \"chocolate\", \"tomato\",\n",
    "          \"yellowgreen\", \"dodgerblue\", \"slategrey\", \"darkorchid\"]\n",
    "# plot\n",
    "fig, ax = plt.subplots(figsize=(20, 12))\n",
    "color_index = 0\n",
    "for radius in radii:\n",
    "    ax.plot(no_of_stations_per_time_step.keys(), no_of_clusters_per_interval_per_radius[radius].values(),\n",
    "            label=f\"Radius: {radius}mm\", linewidth=4, color=colors[color_index])\n",
    "    color_index += 1\n",
    "ax.plot(no_of_stations_per_time_step.keys(), no_of_stations_per_time_step.values(), label=\"No of stations\", linewidth=4,\n",
    "        color=\"red\", linestyle=\"--\")\n",
    "ax.set_xlabel(\"Time interval\")\n",
    "ax.set_ylabel(\"Number of centers\")\n",
    "ax.legend()\n",
    "plt.savefig(os.path.join(clustering_path, \"no_of_clusters_per_interval.svg\"))\n",
    "plt.close()\n",
    "\n"
   ],
   "id": "2e852a937859841d",
   "outputs": [],
   "execution_count": 1
  },
  {
   "metadata": {},
   "cell_type": "code",
   "outputs": [],
   "execution_count": null,
   "source": "",
   "id": "70deaa09799394cc"
  }
 ],
 "metadata": {
  "kernelspec": {
   "display_name": "Python 3",
   "language": "python",
   "name": "python3"
  },
  "language_info": {
   "codemirror_mode": {
    "name": "ipython",
    "version": 2
   },
   "file_extension": ".py",
   "mimetype": "text/x-python",
   "name": "python",
   "nbconvert_exporter": "python",
   "pygments_lexer": "ipython2",
   "version": "2.7.6"
  }
 },
 "nbformat": 4,
 "nbformat_minor": 5
}
